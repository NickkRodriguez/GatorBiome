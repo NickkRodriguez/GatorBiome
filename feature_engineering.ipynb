{
 "cells": [
  {
   "cell_type": "markdown",
   "id": "1646297f-544c-48a8-8c3d-0b5929dc4fc8",
   "metadata": {},
   "source": [
    "### Imports and Setup"
   ]
  },
  {
   "cell_type": "code",
   "execution_count": 1,
   "id": "b7aea7d3-6c46-464a-9fef-a11af8c34a40",
   "metadata": {},
   "outputs": [],
   "source": [
    "import numpy as np\n",
    "import pandas as pd\n",
    "from sklearn.datasets import make_classification\n",
    "from sklearn.feature_selection import SelectKBest, chi2, f_classif, mutual_info_classif\n",
    "from sklearn.decomposition import PCA, KernelPCA\n",
    "import umap\n",
    "import matplotlib.pyplot as plt\n",
    "from sklearn.model_selection import train_test_split\n",
    "from sklearn.ensemble import RandomForestClassifier\n",
    "from sklearn.metrics import roc_auc_score\n",
    "from sklearn.preprocessing import MinMaxScaler, LabelEncoder\n",
    "from utils.models import model_mapping\n",
    "from utils.evaluate import evaluate_model\n",
    "from IPython.display import display, Markdown\n",
    "import warnings\n",
    "import os\n",
    "\n",
    "# suppressing OpenMP warnings that aren't necessary\n",
    "os.environ[\"KMP_WARNINGS\"] = \"0\"\n",
    "warnings.filterwarnings(\"ignore\", message=\".*omp_set_nested routine deprecated.*\")\n",
    "\n",
    "# suppressing warnings that aren't critical   \n",
    "warnings.filterwarnings(\"ignore\", message=\".*'force_all_finite' was renamed to 'ensure_all_finite'.*\")\n",
    "warnings.filterwarnings(\"ignore\", message=\".*n_jobs value 1 overridden to 1 by setting random_state.*\")"
   ]
  },
  {
   "cell_type": "markdown",
   "id": "5a81aa25-ed2c-46b3-851d-67cd8c21b2db",
   "metadata": {},
   "source": [
    "### Loading Best Model"
   ]
  },
  {
   "cell_type": "code",
   "execution_count": 2,
   "id": "a0951f4f-2e2c-472d-af3a-7a5945f14618",
   "metadata": {},
   "outputs": [
    {
     "data": {
      "text/markdown": [
       "Using **Non-linear SVM** as the best model for feature evaluation."
      ],
      "text/plain": [
       "<IPython.core.display.Markdown object>"
      ]
     },
     "metadata": {},
     "output_type": "display_data"
    }
   ],
   "source": [
    "with open(\"./data/best_model.txt\", \"r\") as file:\n",
    "    best_model_name = file.readline().strip().replace(\"Best Model: \", \"\")\n",
    "         \n",
    "if best_model_name in model_mapping:\n",
    "    optimal_model = model_mapping[best_model_name]()\n",
    "    display(Markdown(f\"Using **{best_model_name}** as the best model for feature evaluation.\"))\n",
    "else:\n",
    "    raise ValueError(f\"Model '{best_model_name}' not found in model_mapping. Please check best_model.txt.\")"
   ]
  },
  {
   "cell_type": "markdown",
   "id": "35b1c5f8-074f-41fe-a3a0-b6f845f95779",
   "metadata": {},
   "source": [
    "### Dummy Data"
   ]
  },
  {
   "cell_type": "code",
   "execution_count": 3,
   "id": "2db78024-f416-4920-b321-5f77655d5a73",
   "metadata": {},
   "outputs": [],
   "source": [
    "X, y = make_classification(n_samples=500, n_features=5000, n_informative=100, \n",
    "                           n_redundant=50, random_state=42)\n",
    "X = pd.DataFrame(X, columns=[f'feature_{i}' for i in range(X.shape[1])])\n",
    "\n",
    "# split\n",
    "test_size = 0.2\n",
    "X_train, X_test, y_train, y_test = train_test_split(X, y, test_size=test_size, random_state=42)"
   ]
  },
  {
   "cell_type": "markdown",
   "id": "1f0b4e72-f6de-42ab-a935-e351b281c6d7",
   "metadata": {},
   "source": [
    "### Encoding, Scaling, and Feature Prep"
   ]
  },
  {
   "cell_type": "code",
   "execution_count": 4,
   "id": "3387f76e-91e1-4259-9e74-59860dd75a03",
   "metadata": {},
   "outputs": [],
   "source": [
    "le = LabelEncoder()\n",
    "y_train = le.fit_transform(y_train)\n",
    "y_test = le.transform(y_test)\n",
    "\n",
    "scaler = MinMaxScaler()\n",
    "X_train_scaled = scaler.fit_transform(X_train)\n",
    "X_test_scaled = scaler.transform(X_test)\n",
    "\n",
    "#feature_counts = [1] + list(range(10, 201, 10)) # official\n",
    "feature_counts = [1, 100, 200] # for temporary convenience\n",
    "feature_selection_results = {}\n",
    "feature_extraction_results = {}\n",
    "\n",
    "best_model = optimal_model"
   ]
  },
  {
   "cell_type": "markdown",
   "id": "f8f0d086-c68f-4483-9242-ca0c7e92cfbc",
   "metadata": {},
   "source": [
    "### Feature Selection Methods"
   ]
  },
  {
   "cell_type": "code",
   "execution_count": 5,
   "id": "aa20103a-90bf-4768-aa64-0da2e99dd2e4",
   "metadata": {},
   "outputs": [
    {
     "name": "stdout",
     "output_type": "stream",
     "text": [
      "Evaluating Feature Selection with:\n",
      "1 features\n",
      "100 features\n",
      "200 features\n"
     ]
    }
   ],
   "source": [
    "def select_features(X_train, y_train, X_test, method, k=100):\n",
    "    selector = SelectKBest(method, k=k)\n",
    "    X_train_selected = selector.fit_transform(X_train, y_train)\n",
    "    X_test_selected = selector.transform(X_test)\n",
    "    return X_train_selected, X_test_selected\n",
    "\n",
    "print(f\"Evaluating Feature Selection with:\")\n",
    "\n",
    "for k in feature_counts:\n",
    "    print(f\"{k} features\")\n",
    "    \n",
    "    # selecting the features\n",
    "    X_train_chi2, X_test_chi2 = select_features(X_train_scaled, y_train, X_test_scaled, chi2, k)\n",
    "    X_train_mi, X_test_mi = select_features(X_train_scaled, y_train, X_test_scaled, mutual_info_classif, k)\n",
    "    X_train_anova, X_test_anova = select_features(X_train_scaled, y_train, X_test_scaled, f_classif, k)\n",
    "\n",
    "    # training the model\n",
    "    best_model.train(X_train_chi2, y_train)\n",
    "    chi2_pred_probs = best_model.model.predict_proba(X_test_chi2)[:, 1]\n",
    "    \n",
    "    best_model.train(X_train_mi, y_train)\n",
    "    mi_pred_probs = best_model.model.predict_proba(X_test_mi)[:, 1]\n",
    "    \n",
    "    best_model.train(X_train_anova, y_train)\n",
    "    anova_pred_probs = best_model.model.predict_proba(X_test_anova)[:, 1]\n",
    "\n",
    "    # storing results\n",
    "    feature_selection_results[k] = { \n",
    "        \"Chi-Squared\": evaluate_model(y_test, chi2_pred_probs.round(), chi2_pred_probs),\n",
    "        \"Mutual Information\": evaluate_model(y_test, mi_pred_probs.round(), mi_pred_probs),\n",
    "        \"ANOVA F-value\": evaluate_model(y_test, anova_pred_probs.round(), anova_pred_probs)\n",
    "    }"
   ]
  },
  {
   "cell_type": "markdown",
   "id": "da8ae181-4a54-4aea-9545-6ffe15984a6b",
   "metadata": {},
   "source": [
    "### Feature Extraction Methods"
   ]
  },
  {
   "cell_type": "code",
   "execution_count": 6,
   "id": "c0e4562d-726d-4946-9930-97808c5be5f8",
   "metadata": {},
   "outputs": [
    {
     "name": "stdout",
     "output_type": "stream",
     "text": [
      "Evaluating Feature Extraction with:\n",
      "1 components\n",
      "100 components\n",
      "200 components\n"
     ]
    }
   ],
   "source": [
    "def apply_pca(X_train, X_test, n_components):\n",
    "    pca = PCA(n_components=n_components)\n",
    "    X_train_pca = pca.fit_transform(X_train)\n",
    "    X_test_pca = pca.transform(X_test)\n",
    "    return X_train_pca, X_test_pca\n",
    "    \n",
    "print(f\"Evaluating Feature Extraction with:\")\n",
    "\n",
    "model_predictor = next(\n",
    "    getattr(best_model, attr) for attr in dir(best_model)\n",
    "    if hasattr(getattr(best_model, attr), 'predict_proba')\n",
    ")\n",
    "    \n",
    "for n in feature_counts:\n",
    "    print(f\"{n} components\")\n",
    "    \n",
    "    # application of extraction models\n",
    "    X_train_pca, X_test_pca = apply_pca(X_train_scaled, X_test_scaled, n)\n",
    "    \n",
    "    kpca = KernelPCA(n_components=n, kernel='rbf')\n",
    "    X_train_kpca = kpca.fit_transform(X_train_scaled)\n",
    "    X_test_kpca = kpca.transform(X_test_scaled)\n",
    "    \n",
    "    umap_reducer = umap.UMAP(n_components=n, random_state=42)\n",
    "    X_train_umap = umap_reducer.fit_transform(X_train_scaled)\n",
    "    X_test_umap = umap_reducer.transform(X_test_scaled)\n",
    "\n",
    "    # training the model\n",
    "    best_model.train(X_train_pca, y_train)\n",
    "    pca_pred_probs = best_model.model.predict_proba(X_test_pca)[:, 1]\n",
    "    \n",
    "    best_model.train(X_train_kpca, y_train)\n",
    "    kpca_pred_probs = best_model.model.predict_proba(X_test_kpca)[:, 1]\n",
    "    \n",
    "    best_model.train(X_train_umap, y_train)\n",
    "    umap_pred_probs = best_model.model.predict_proba(X_test_umap)[:, 1]\n",
    "\n",
    "    # storing results\n",
    "    feature_extraction_results[n] = { \n",
    "        \"PCA\": evaluate_model(y_test, pca_pred_probs.round(), pca_pred_probs),\n",
    "        \"Kernel PCA\": evaluate_model(y_test, kpca_pred_probs.round(), kpca_pred_probs),\n",
    "        \"UMAP\": evaluate_model(y_test, umap_pred_probs.round(), umap_pred_probs)\n",
    "    }"
   ]
  },
  {
   "cell_type": "markdown",
   "id": "c6e0452b-f8c8-4da1-a784-60c337566fff",
   "metadata": {},
   "source": [
    "### Printing Results"
   ]
  },
  {
   "cell_type": "code",
   "execution_count": 7,
   "id": "1ca6b61a-9413-4b4c-bea0-e990f49287f5",
   "metadata": {},
   "outputs": [
    {
     "data": {
      "text/markdown": [
       "#### Feature Selection Results:"
      ],
      "text/plain": [
       "<IPython.core.display.Markdown object>"
      ]
     },
     "metadata": {},
     "output_type": "display_data"
    },
    {
     "data": {
      "text/html": [
       "<div>\n",
       "<style scoped>\n",
       "    .dataframe tbody tr th:only-of-type {\n",
       "        vertical-align: middle;\n",
       "    }\n",
       "\n",
       "    .dataframe tbody tr th {\n",
       "        vertical-align: top;\n",
       "    }\n",
       "\n",
       "    .dataframe thead th {\n",
       "        text-align: right;\n",
       "    }\n",
       "</style>\n",
       "<table border=\"1\" class=\"dataframe\">\n",
       "  <thead>\n",
       "    <tr style=\"text-align: right;\">\n",
       "      <th></th>\n",
       "      <th>Accuracy</th>\n",
       "      <th>Precision</th>\n",
       "      <th>Recall</th>\n",
       "      <th>F1</th>\n",
       "      <th>AUC</th>\n",
       "    </tr>\n",
       "    <tr>\n",
       "      <th># of Selected Features, Method</th>\n",
       "      <th></th>\n",
       "      <th></th>\n",
       "      <th></th>\n",
       "      <th></th>\n",
       "      <th></th>\n",
       "    </tr>\n",
       "  </thead>\n",
       "  <tbody>\n",
       "    <tr>\n",
       "      <th>(1, Chi-Squared)</th>\n",
       "      <td>0.58</td>\n",
       "      <td>0.591717</td>\n",
       "      <td>0.58</td>\n",
       "      <td>0.580000</td>\n",
       "      <td>0.642424</td>\n",
       "    </tr>\n",
       "    <tr>\n",
       "      <th>(1, Mutual Information)</th>\n",
       "      <td>0.53</td>\n",
       "      <td>0.550637</td>\n",
       "      <td>0.53</td>\n",
       "      <td>0.524379</td>\n",
       "      <td>0.524646</td>\n",
       "    </tr>\n",
       "    <tr>\n",
       "      <th>(1, ANOVA F-value)</th>\n",
       "      <td>0.61</td>\n",
       "      <td>0.643316</td>\n",
       "      <td>0.61</td>\n",
       "      <td>0.603277</td>\n",
       "      <td>0.641616</td>\n",
       "    </tr>\n",
       "    <tr>\n",
       "      <th>(100, Chi-Squared)</th>\n",
       "      <td>0.68</td>\n",
       "      <td>0.680000</td>\n",
       "      <td>0.68</td>\n",
       "      <td>0.680000</td>\n",
       "      <td>0.717980</td>\n",
       "    </tr>\n",
       "    <tr>\n",
       "      <th>(100, Mutual Information)</th>\n",
       "      <td>0.54</td>\n",
       "      <td>0.541911</td>\n",
       "      <td>0.54</td>\n",
       "      <td>0.540741</td>\n",
       "      <td>0.596768</td>\n",
       "    </tr>\n",
       "    <tr>\n",
       "      <th>(100, ANOVA F-value)</th>\n",
       "      <td>0.68</td>\n",
       "      <td>0.680000</td>\n",
       "      <td>0.68</td>\n",
       "      <td>0.680000</td>\n",
       "      <td>0.740202</td>\n",
       "    </tr>\n",
       "    <tr>\n",
       "      <th>(200, Chi-Squared)</th>\n",
       "      <td>0.67</td>\n",
       "      <td>0.669399</td>\n",
       "      <td>0.67</td>\n",
       "      <td>0.669633</td>\n",
       "      <td>0.745657</td>\n",
       "    </tr>\n",
       "    <tr>\n",
       "      <th>(200, Mutual Information)</th>\n",
       "      <td>0.60</td>\n",
       "      <td>0.601766</td>\n",
       "      <td>0.60</td>\n",
       "      <td>0.600644</td>\n",
       "      <td>0.645253</td>\n",
       "    </tr>\n",
       "    <tr>\n",
       "      <th>(200, ANOVA F-value)</th>\n",
       "      <td>0.70</td>\n",
       "      <td>0.706483</td>\n",
       "      <td>0.70</td>\n",
       "      <td>0.700721</td>\n",
       "      <td>0.724848</td>\n",
       "    </tr>\n",
       "  </tbody>\n",
       "</table>\n",
       "</div>"
      ],
      "text/plain": [
       "                                Accuracy  Precision  Recall        F1  \\\n",
       "# of Selected Features, Method                                          \n",
       "(1, Chi-Squared)                    0.58   0.591717    0.58  0.580000   \n",
       "(1, Mutual Information)             0.53   0.550637    0.53  0.524379   \n",
       "(1, ANOVA F-value)                  0.61   0.643316    0.61  0.603277   \n",
       "(100, Chi-Squared)                  0.68   0.680000    0.68  0.680000   \n",
       "(100, Mutual Information)           0.54   0.541911    0.54  0.540741   \n",
       "(100, ANOVA F-value)                0.68   0.680000    0.68  0.680000   \n",
       "(200, Chi-Squared)                  0.67   0.669399    0.67  0.669633   \n",
       "(200, Mutual Information)           0.60   0.601766    0.60  0.600644   \n",
       "(200, ANOVA F-value)                0.70   0.706483    0.70  0.700721   \n",
       "\n",
       "                                     AUC  \n",
       "# of Selected Features, Method            \n",
       "(1, Chi-Squared)                0.642424  \n",
       "(1, Mutual Information)         0.524646  \n",
       "(1, ANOVA F-value)              0.641616  \n",
       "(100, Chi-Squared)              0.717980  \n",
       "(100, Mutual Information)       0.596768  \n",
       "(100, ANOVA F-value)            0.740202  \n",
       "(200, Chi-Squared)              0.745657  \n",
       "(200, Mutual Information)       0.645253  \n",
       "(200, ANOVA F-value)            0.724848  "
      ]
     },
     "metadata": {},
     "output_type": "display_data"
    },
    {
     "data": {
      "text/markdown": [
       "#### Feature Extraction Results:"
      ],
      "text/plain": [
       "<IPython.core.display.Markdown object>"
      ]
     },
     "metadata": {},
     "output_type": "display_data"
    },
    {
     "data": {
      "text/html": [
       "<div>\n",
       "<style scoped>\n",
       "    .dataframe tbody tr th:only-of-type {\n",
       "        vertical-align: middle;\n",
       "    }\n",
       "\n",
       "    .dataframe tbody tr th {\n",
       "        vertical-align: top;\n",
       "    }\n",
       "\n",
       "    .dataframe thead th {\n",
       "        text-align: right;\n",
       "    }\n",
       "</style>\n",
       "<table border=\"1\" class=\"dataframe\">\n",
       "  <thead>\n",
       "    <tr style=\"text-align: right;\">\n",
       "      <th></th>\n",
       "      <th>Accuracy</th>\n",
       "      <th>Precision</th>\n",
       "      <th>Recall</th>\n",
       "      <th>F1</th>\n",
       "      <th>AUC</th>\n",
       "    </tr>\n",
       "    <tr>\n",
       "      <th># of Components, Method</th>\n",
       "      <th></th>\n",
       "      <th></th>\n",
       "      <th></th>\n",
       "      <th></th>\n",
       "      <th></th>\n",
       "    </tr>\n",
       "  </thead>\n",
       "  <tbody>\n",
       "    <tr>\n",
       "      <th>(1, PCA)</th>\n",
       "      <td>0.43</td>\n",
       "      <td>0.442360</td>\n",
       "      <td>0.43</td>\n",
       "      <td>0.397417</td>\n",
       "      <td>0.506667</td>\n",
       "    </tr>\n",
       "    <tr>\n",
       "      <th>(1, Kernel PCA)</th>\n",
       "      <td>0.53</td>\n",
       "      <td>0.493439</td>\n",
       "      <td>0.53</td>\n",
       "      <td>0.458192</td>\n",
       "      <td>0.447677</td>\n",
       "    </tr>\n",
       "    <tr>\n",
       "      <th>(1, UMAP)</th>\n",
       "      <td>0.51</td>\n",
       "      <td>0.531771</td>\n",
       "      <td>0.51</td>\n",
       "      <td>0.501553</td>\n",
       "      <td>0.500606</td>\n",
       "    </tr>\n",
       "    <tr>\n",
       "      <th>(100, PCA)</th>\n",
       "      <td>0.59</td>\n",
       "      <td>0.609053</td>\n",
       "      <td>0.59</td>\n",
       "      <td>0.527359</td>\n",
       "      <td>0.578990</td>\n",
       "    </tr>\n",
       "    <tr>\n",
       "      <th>(100, Kernel PCA)</th>\n",
       "      <td>0.53</td>\n",
       "      <td>0.651910</td>\n",
       "      <td>0.53</td>\n",
       "      <td>0.463912</td>\n",
       "      <td>0.640000</td>\n",
       "    </tr>\n",
       "    <tr>\n",
       "      <th>(100, UMAP)</th>\n",
       "      <td>0.48</td>\n",
       "      <td>0.495334</td>\n",
       "      <td>0.48</td>\n",
       "      <td>0.474990</td>\n",
       "      <td>0.506465</td>\n",
       "    </tr>\n",
       "    <tr>\n",
       "      <th>(200, PCA)</th>\n",
       "      <td>0.60</td>\n",
       "      <td>0.595604</td>\n",
       "      <td>0.60</td>\n",
       "      <td>0.591667</td>\n",
       "      <td>0.613737</td>\n",
       "    </tr>\n",
       "    <tr>\n",
       "      <th>(200, Kernel PCA)</th>\n",
       "      <td>0.59</td>\n",
       "      <td>0.626872</td>\n",
       "      <td>0.59</td>\n",
       "      <td>0.580413</td>\n",
       "      <td>0.644646</td>\n",
       "    </tr>\n",
       "    <tr>\n",
       "      <th>(200, UMAP)</th>\n",
       "      <td>0.55</td>\n",
       "      <td>0.302500</td>\n",
       "      <td>0.55</td>\n",
       "      <td>0.390323</td>\n",
       "      <td>0.560404</td>\n",
       "    </tr>\n",
       "  </tbody>\n",
       "</table>\n",
       "</div>"
      ],
      "text/plain": [
       "                         Accuracy  Precision  Recall        F1       AUC\n",
       "# of Components, Method                                                 \n",
       "(1, PCA)                     0.43   0.442360    0.43  0.397417  0.506667\n",
       "(1, Kernel PCA)              0.53   0.493439    0.53  0.458192  0.447677\n",
       "(1, UMAP)                    0.51   0.531771    0.51  0.501553  0.500606\n",
       "(100, PCA)                   0.59   0.609053    0.59  0.527359  0.578990\n",
       "(100, Kernel PCA)            0.53   0.651910    0.53  0.463912  0.640000\n",
       "(100, UMAP)                  0.48   0.495334    0.48  0.474990  0.506465\n",
       "(200, PCA)                   0.60   0.595604    0.60  0.591667  0.613737\n",
       "(200, Kernel PCA)            0.59   0.626872    0.59  0.580413  0.644646\n",
       "(200, UMAP)                  0.55   0.302500    0.55  0.390323  0.560404"
      ]
     },
     "metadata": {},
     "output_type": "display_data"
    }
   ],
   "source": [
    "metric_names = [\"Accuracy\", \"Precision\", \"Recall\", \"F1\", \"AUC\"]\n",
    "\n",
    "# metrics into columns\n",
    "def expand_results(results_dict):\n",
    "    expanded_results = {}\n",
    "    for k, v in results_dict.items():\n",
    "        for method, metrics in v.items():\n",
    "            expanded_results[(k, method)] = metrics\n",
    "    return expanded_results\n",
    "\n",
    "df_feature_selection = pd.DataFrame.from_dict(expand_results(feature_selection_results), orient='index', columns=metric_names)\n",
    "df_feature_extraction = pd.DataFrame.from_dict(expand_results(feature_extraction_results), orient='index', columns=metric_names)\n",
    "\n",
    "df_feature_selection.index.name = \"# of Selected Features, Method\"\n",
    "df_feature_extraction.index.name = \"# of Components, Method\"\n",
    "\n",
    "display(Markdown(\"#### Feature Selection Results:\"))\n",
    "display(df_feature_selection)\n",
    "\n",
    "display(Markdown(\"#### Feature Extraction Results:\"))\n",
    "display(df_feature_extraction)"
   ]
  },
  {
   "cell_type": "code",
   "execution_count": null,
   "id": "9a4777bc-9661-4a81-9cd8-8d023248eead",
   "metadata": {},
   "outputs": [],
   "source": []
  }
 ],
 "metadata": {
  "kernelspec": {
   "display_name": "Python 3 (ipykernel)",
   "language": "python",
   "name": "python3"
  },
  "language_info": {
   "codemirror_mode": {
    "name": "ipython",
    "version": 3
   },
   "file_extension": ".py",
   "mimetype": "text/x-python",
   "name": "python",
   "nbconvert_exporter": "python",
   "pygments_lexer": "ipython3",
   "version": "3.12.7"
  }
 },
 "nbformat": 4,
 "nbformat_minor": 5
}
