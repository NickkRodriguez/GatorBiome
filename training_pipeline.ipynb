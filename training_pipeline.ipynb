{
 "cells": [
  {
   "cell_type": "markdown",
   "id": "4e4a5cb5-a9cb-4b47-8c7c-7a19a4df0818",
   "metadata": {},
   "source": [
    "### Imports and Setup"
   ]
  },
  {
   "cell_type": "code",
   "execution_count": 1,
   "id": "fa4a12f5-2e10-44cf-9d63-819c5ea7c81d",
   "metadata": {},
   "outputs": [],
   "source": [
    "from sklearn.preprocessing import StandardScaler, MinMaxScaler, LabelEncoder\n",
    "from sklearn.feature_selection import VarianceThreshold\n",
    "from sklearn.model_selection import train_test_split\n",
    "from utils.models import model_mapping\n",
    "from tqdm import tqdm\n",
    "import pandas as pd\n",
    "import numpy as np\n",
    "import json\n",
    "import os\n",
    "import warnings\n",
    "warnings.filterwarnings(\"ignore\", category=FutureWarning)\n",
    "\n",
    "#runs = 10 # for ease when coding\n",
    "runs = 100 # for final experiments\n",
    "np.random.seed(42)\n",
    "random_seeds = np.random.randint(0, 10000, size=runs)\n",
    "\n",
    "dataset_names = ['rarefied', 'clr']\n",
    "data_dir = \"./data\"\n",
    "results_dir = \"./results/summaries\"\n",
    "os.makedirs(results_dir, exist_ok=True)\n",
    "\n",
    "final_results = {}"
   ]
  },
  {
   "cell_type": "markdown",
   "id": "302cfe2d-873c-4898-b38c-0d9d505ba48c",
   "metadata": {},
   "source": [
    "### Looping Over Datasets"
   ]
  },
  {
   "cell_type": "code",
   "execution_count": 2,
   "id": "0db9fbab-d763-4899-a66c-a8cb03e980bb",
   "metadata": {},
   "outputs": [
    {
     "name": "stdout",
     "output_type": "stream",
     "text": [
      "\n",
      "============================================================\n",
      " Running Training Pipeline on: rarefied\n",
      "============================================================\n"
     ]
    },
    {
     "name": "stderr",
     "output_type": "stream",
     "text": [
      "    Progress (rarefied):   0%|      | 0/100 [00:00<?, ?it/s]"
     ]
    },
    {
     "name": "stdout",
     "output_type": "stream",
     "text": [
      "    Run 1 (seed=7270)\n"
     ]
    },
    {
     "name": "stderr",
     "output_type": "stream",
     "text": [
      "    Progress (rarefied):   9%| | 9/100 [01:40<19:28, 12.84s/"
     ]
    },
    {
     "name": "stdout",
     "output_type": "stream",
     "text": [
      "    Run 10 (seed=8322)\n"
     ]
    },
    {
     "name": "stderr",
     "output_type": "stream",
     "text": [
      "    Progress (rarefied):  19%|▏| 19/100 [03:18<12:50,  9.51s"
     ]
    },
    {
     "name": "stdout",
     "output_type": "stream",
     "text": [
      "    Run 20 (seed=3385)\n"
     ]
    },
    {
     "name": "stderr",
     "output_type": "stream",
     "text": [
      "    Progress (rarefied):  29%|▎| 29/100 [04:49<10:41,  9.03s"
     ]
    },
    {
     "name": "stdout",
     "output_type": "stream",
     "text": [
      "    Run 30 (seed=189)\n"
     ]
    },
    {
     "name": "stderr",
     "output_type": "stream",
     "text": [
      "    Progress (rarefied):  39%|▍| 39/100 [06:17<09:02,  8.89s"
     ]
    },
    {
     "name": "stdout",
     "output_type": "stream",
     "text": [
      "    Run 40 (seed=8838)\n"
     ]
    },
    {
     "name": "stderr",
     "output_type": "stream",
     "text": [
      "    Progress (rarefied):  49%|▍| 49/100 [07:50<08:05,  9.51s"
     ]
    },
    {
     "name": "stdout",
     "output_type": "stream",
     "text": [
      "    Run 50 (seed=7099)\n"
     ]
    },
    {
     "name": "stderr",
     "output_type": "stream",
     "text": [
      "    Progress (rarefied):  59%|▌| 59/100 [09:22<06:21,  9.30s"
     ]
    },
    {
     "name": "stdout",
     "output_type": "stream",
     "text": [
      "    Run 60 (seed=3843)\n"
     ]
    },
    {
     "name": "stderr",
     "output_type": "stream",
     "text": [
      "    Progress (rarefied):  69%|▋| 69/100 [10:59<04:46,  9.23s"
     ]
    },
    {
     "name": "stdout",
     "output_type": "stream",
     "text": [
      "    Run 70 (seed=1016)\n"
     ]
    },
    {
     "name": "stderr",
     "output_type": "stream",
     "text": [
      "    Progress (rarefied):  79%|▊| 79/100 [12:35<03:21,  9.59s"
     ]
    },
    {
     "name": "stdout",
     "output_type": "stream",
     "text": [
      "    Run 80 (seed=4859)\n"
     ]
    },
    {
     "name": "stderr",
     "output_type": "stream",
     "text": [
      "    Progress (rarefied):  89%|▉| 89/100 [14:10<01:48,  9.85s"
     ]
    },
    {
     "name": "stdout",
     "output_type": "stream",
     "text": [
      "    Run 90 (seed=5463)\n"
     ]
    },
    {
     "name": "stderr",
     "output_type": "stream",
     "text": [
      "    Progress (rarefied):  99%|▉| 99/100 [15:46<00:09,  9.87s"
     ]
    },
    {
     "name": "stdout",
     "output_type": "stream",
     "text": [
      "    Run 100 (seed=6184)\n"
     ]
    },
    {
     "name": "stderr",
     "output_type": "stream",
     "text": [
      "    Progress (rarefied): 100%|█| 100/100 [15:57<00:00,  9.58\n"
     ]
    },
    {
     "name": "stdout",
     "output_type": "stream",
     "text": [
      "\n",
      "Best Model for rarefied: Light Gradient Boosting Model\n",
      "AUC: 0.78454\n",
      "Accuracy: 0.70647\n",
      "Precision: 0.71678\n",
      "Recall: 0.70647\n",
      "F1: 0.70160\n",
      "\n",
      "\n",
      "============================================================\n",
      " Running Training Pipeline on: clr\n",
      "============================================================\n"
     ]
    },
    {
     "name": "stderr",
     "output_type": "stream",
     "text": [
      "    Progress (clr):   0%|           | 0/100 [00:00<?, ?it/s]"
     ]
    },
    {
     "name": "stdout",
     "output_type": "stream",
     "text": [
      "    Run 1 (seed=7270)\n"
     ]
    },
    {
     "name": "stderr",
     "output_type": "stream",
     "text": [
      "    Progress (clr):   9%| | 9/100 [07:01<1:08:09, 44.94s/it]"
     ]
    },
    {
     "name": "stdout",
     "output_type": "stream",
     "text": [
      "    Run 10 (seed=8322)\n"
     ]
    },
    {
     "name": "stderr",
     "output_type": "stream",
     "text": [
      "    Progress (clr):  19%|▏| 19/100 [14:28<1:00:04, 44.49s/it"
     ]
    },
    {
     "name": "stdout",
     "output_type": "stream",
     "text": [
      "    Run 20 (seed=3385)\n"
     ]
    },
    {
     "name": "stderr",
     "output_type": "stream",
     "text": [
      "    Progress (clr):  29%|▌ | 29/100 [21:57<52:40, 44.51s/it]"
     ]
    },
    {
     "name": "stdout",
     "output_type": "stream",
     "text": [
      "    Run 30 (seed=189)\n"
     ]
    },
    {
     "name": "stderr",
     "output_type": "stream",
     "text": [
      "    Progress (clr):  39%|▊ | 39/100 [29:30<47:22, 46.60s/it]"
     ]
    },
    {
     "name": "stdout",
     "output_type": "stream",
     "text": [
      "    Run 40 (seed=8838)\n"
     ]
    },
    {
     "name": "stderr",
     "output_type": "stream",
     "text": [
      "    Progress (clr):  49%|▉ | 49/100 [36:58<37:07, 43.68s/it]"
     ]
    },
    {
     "name": "stdout",
     "output_type": "stream",
     "text": [
      "    Run 50 (seed=7099)\n"
     ]
    },
    {
     "name": "stderr",
     "output_type": "stream",
     "text": [
      "    Progress (clr):  59%|█▏| 59/100 [44:10<30:12, 44.20s/it]"
     ]
    },
    {
     "name": "stdout",
     "output_type": "stream",
     "text": [
      "    Run 60 (seed=3843)\n"
     ]
    },
    {
     "name": "stderr",
     "output_type": "stream",
     "text": [
      "    Progress (clr):  69%|█▍| 69/100 [51:30<22:56, 44.39s/it]"
     ]
    },
    {
     "name": "stdout",
     "output_type": "stream",
     "text": [
      "    Run 70 (seed=1016)\n"
     ]
    },
    {
     "name": "stderr",
     "output_type": "stream",
     "text": [
      "    Progress (clr):  79%|█▌| 79/100 [58:41<14:38, 41.84s/it]"
     ]
    },
    {
     "name": "stdout",
     "output_type": "stream",
     "text": [
      "    Run 80 (seed=4859)\n"
     ]
    },
    {
     "name": "stderr",
     "output_type": "stream",
     "text": [
      "    Progress (clr):  89%|▉| 89/100 [1:05:54<07:44, 42.22s/it"
     ]
    },
    {
     "name": "stdout",
     "output_type": "stream",
     "text": [
      "    Run 90 (seed=5463)\n"
     ]
    },
    {
     "name": "stderr",
     "output_type": "stream",
     "text": [
      "    Progress (clr):  99%|▉| 99/100 [1:13:01<00:41, 41.68s/it"
     ]
    },
    {
     "name": "stdout",
     "output_type": "stream",
     "text": [
      "    Run 100 (seed=6184)\n"
     ]
    },
    {
     "name": "stderr",
     "output_type": "stream",
     "text": [
      "    Progress (clr): 100%|█| 100/100 [1:13:46<00:00, 44.26s/i"
     ]
    },
    {
     "name": "stdout",
     "output_type": "stream",
     "text": [
      "\n",
      "Best Model for clr: Logistic Regression - Elastic Net\n",
      "AUC: 0.77202\n",
      "Accuracy: 0.71078\n",
      "Precision: 0.71475\n",
      "Recall: 0.71078\n",
      "F1: 0.70895\n",
      "\n",
      "\n",
      "Results saved to: ./results/summaries/best_models.json\n"
     ]
    },
    {
     "name": "stderr",
     "output_type": "stream",
     "text": [
      "\n"
     ]
    }
   ],
   "source": [
    "for dataset_name in dataset_names:\n",
    "    print(f\"\\n{'='*60}\\n Running Training Pipeline on: {dataset_name}\\n{'='*60}\")\n",
    "\n",
    "    # loading data\n",
    "    df = pd.read_csv(f\"{data_dir}/{dataset_name}.csv\", index_col=0)\n",
    "    X = df.drop(columns=[\"Diagnosis\", \"Diagnosis_labeled\"])\n",
    "    y = df[\"Diagnosis_labeled\"]\n",
    "\n",
    "    # encoding labels\n",
    "    le = LabelEncoder()\n",
    "    y = le.fit_transform(y)\n",
    "    \n",
    "    # initializing models from mapping\n",
    "    models = {name: model_class() for name, model_class in model_mapping.items()}\n",
    "    # dictionary to store model evaluation results\n",
    "    model_results = {name: np.zeros((runs, 5)) for name in models}\n",
    "\n",
    "    # Training Loop\n",
    "    for i, seed in enumerate(tqdm(random_seeds, desc=f\"    Progress ({dataset_name})\")):\n",
    "        # showing progress\n",
    "        if (i + 1) % 10 == 0 or i == 0:\n",
    "            print(f\"    Run {i + 1} (seed={seed})\")\n",
    "            \n",
    "        X_train, X_test, y_train, y_test = train_test_split(X, y, test_size=0.2, random_state=seed, stratify=y)\n",
    "        \n",
    "        # preprocessing\n",
    "        vt = VarianceThreshold(threshold=0)\n",
    "        X_train = vt.fit_transform(X_train)\n",
    "        X_test = vt.transform(X_test)\n",
    "        \n",
    "        scaler = MinMaxScaler()\n",
    "        X_train_scaled = scaler.fit_transform(X_train)\n",
    "        X_test_scaled = scaler.transform(X_test)\n",
    "        \n",
    "        # training & evaluating each model\n",
    "        for name, current_model in models.items():\n",
    "            current_model.train(X_train_scaled, y_train)\n",
    "            metrics_dict = current_model.predict(X_test_scaled, y_test)\n",
    "            model_results[name][i, :] = [\n",
    "                metrics_dict[\"AUC\"],\n",
    "                metrics_dict[\"Accuracy\"],\n",
    "                metrics_dict[\"Precision\"],\n",
    "                metrics_dict[\"Recall\"],\n",
    "                metrics_dict[\"F1\"]\n",
    "            ]\n",
    "            \n",
    "\n",
    "    # computing average metrics\n",
    "    average_results = {\n",
    "    name: np.mean(results, axis=0) for name, results in model_results.items()\n",
    "    }\n",
    "\n",
    "    # best model selection with priority on AUC while using other metrics as tiebreakers\n",
    "    best_model = max(average_results, key=lambda name: tuple(average_results[name]))\n",
    "    best_metrics = average_results[best_model]\n",
    "\n",
    "    print(f\"\\nBest Model for {dataset_name}: {best_model}\")\n",
    "    print(\n",
    "        f\"AUC: {best_metrics[0]:.5f}\\n\"\n",
    "        f\"Accuracy: {best_metrics[1]:.5f}\\n\"\n",
    "        f\"Precision: {best_metrics[2]:.5f}\\n\"\n",
    "        f\"Recall: {best_metrics[3]:.5f}\\n\"\n",
    "        f\"F1: {best_metrics[4]:.5f}\\n\"\n",
    "    )\n",
    "\n",
    "    # storing results in dictionary for JSON\n",
    "    final_results[dataset_name] = {\n",
    "        \"best_model\": best_model,\n",
    "        \"metrics\": {\n",
    "            \"auc\": round(best_metrics[0], 5),\n",
    "            \"accuracy\": round(best_metrics[1], 5),\n",
    "            \"precision\": round(best_metrics[2], 5),\n",
    "            \"recall\": round(best_metrics[3], 5),\n",
    "            \"f1\": round(best_metrics[4], 5)\n",
    "        }\n",
    "    }\n",
    "\n",
    "# saving structured info for frontend\n",
    "with open(f\"{results_dir}/best_models.json\", \"w\") as f:\n",
    "    json.dump(final_results, f, indent=2)\n",
    "\n",
    "print(f\"\\nResults saved to: {results_dir}/best_models.json\")"
   ]
  },
  {
   "cell_type": "code",
   "execution_count": null,
   "id": "34d6c68a-4b9e-40e7-bc77-250679ed82cd",
   "metadata": {},
   "outputs": [],
   "source": []
  }
 ],
 "metadata": {
  "kernelspec": {
   "display_name": "Python 3 (ipykernel)",
   "language": "python",
   "name": "python3"
  },
  "language_info": {
   "codemirror_mode": {
    "name": "ipython",
    "version": 3
   },
   "file_extension": ".py",
   "mimetype": "text/x-python",
   "name": "python",
   "nbconvert_exporter": "python",
   "pygments_lexer": "ipython3",
   "version": "3.12.7"
  },
  "vscode": {
   "interpreter": {
    "hash": "cf92aa13fedf815d5c8dd192b8d835913fde3e8bc926b2a0ad6cc74ef2ba3ca2"
   }
  }
 },
 "nbformat": 4,
 "nbformat_minor": 5
}
