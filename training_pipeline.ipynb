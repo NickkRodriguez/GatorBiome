{
 "cells": [
  {
   "cell_type": "markdown",
   "id": "4e4a5cb5-a9cb-4b47-8c7c-7a19a4df0818",
   "metadata": {},
   "source": [
    "### Imports and Setup"
   ]
  },
  {
   "cell_type": "code",
   "execution_count": 1,
   "id": "fa4a12f5-2e10-44cf-9d63-819c5ea7c81d",
   "metadata": {},
   "outputs": [],
   "source": [
    "from sklearn.preprocessing import StandardScaler, MinMaxScaler, LabelEncoder\n",
    "from sklearn.model_selection import train_test_split\n",
    "import pandas as pd\n",
    "import numpy as np\n",
    "\n",
    "# importing models\n",
    "from utils.models import model_mapping\n",
    "\n",
    "seed = 123456\n",
    "#runs = 10 # for ease when coding\n",
    "runs = 100 # for final experiments"
   ]
  },
  {
   "cell_type": "markdown",
   "id": "9ec59829-8aa2-4dc7-ac71-6793b3d11dfd",
   "metadata": {},
   "source": [
    "### Loading and Exploring the Data"
   ]
  },
  {
   "cell_type": "code",
   "execution_count": 2,
   "id": "0b0f9a38-a0d3-4e3a-b230-db2d21247759",
   "metadata": {},
   "outputs": [
    {
     "data": {
      "text/html": [
       "<div>\n",
       "<style scoped>\n",
       "    .dataframe tbody tr th:only-of-type {\n",
       "        vertical-align: middle;\n",
       "    }\n",
       "\n",
       "    .dataframe tbody tr th {\n",
       "        vertical-align: top;\n",
       "    }\n",
       "\n",
       "    .dataframe thead th {\n",
       "        text-align: right;\n",
       "    }\n",
       "</style>\n",
       "<table border=\"1\" class=\"dataframe\">\n",
       "  <thead>\n",
       "    <tr style=\"text-align: right;\">\n",
       "      <th></th>\n",
       "      <th>Wine</th>\n",
       "      <th>Alcohol</th>\n",
       "      <th>Malic.acid</th>\n",
       "      <th>Ash</th>\n",
       "      <th>Acl</th>\n",
       "      <th>Mg</th>\n",
       "      <th>Phenols</th>\n",
       "      <th>Flavanoids</th>\n",
       "      <th>Nonflavanoid.phenols</th>\n",
       "      <th>Proanth</th>\n",
       "      <th>Color.int</th>\n",
       "      <th>Hue</th>\n",
       "      <th>OD</th>\n",
       "      <th>Proline</th>\n",
       "    </tr>\n",
       "  </thead>\n",
       "  <tbody>\n",
       "    <tr>\n",
       "      <th>0</th>\n",
       "      <td>1</td>\n",
       "      <td>14.23</td>\n",
       "      <td>1.71</td>\n",
       "      <td>2.43</td>\n",
       "      <td>15.6</td>\n",
       "      <td>127</td>\n",
       "      <td>2.80</td>\n",
       "      <td>3.06</td>\n",
       "      <td>0.28</td>\n",
       "      <td>2.29</td>\n",
       "      <td>5.64</td>\n",
       "      <td>1.04</td>\n",
       "      <td>3.92</td>\n",
       "      <td>1065</td>\n",
       "    </tr>\n",
       "    <tr>\n",
       "      <th>1</th>\n",
       "      <td>1</td>\n",
       "      <td>13.20</td>\n",
       "      <td>1.78</td>\n",
       "      <td>2.14</td>\n",
       "      <td>11.2</td>\n",
       "      <td>100</td>\n",
       "      <td>2.65</td>\n",
       "      <td>2.76</td>\n",
       "      <td>0.26</td>\n",
       "      <td>1.28</td>\n",
       "      <td>4.38</td>\n",
       "      <td>1.05</td>\n",
       "      <td>3.40</td>\n",
       "      <td>1050</td>\n",
       "    </tr>\n",
       "    <tr>\n",
       "      <th>2</th>\n",
       "      <td>1</td>\n",
       "      <td>13.16</td>\n",
       "      <td>2.36</td>\n",
       "      <td>2.67</td>\n",
       "      <td>18.6</td>\n",
       "      <td>101</td>\n",
       "      <td>2.80</td>\n",
       "      <td>3.24</td>\n",
       "      <td>0.30</td>\n",
       "      <td>2.81</td>\n",
       "      <td>5.68</td>\n",
       "      <td>1.03</td>\n",
       "      <td>3.17</td>\n",
       "      <td>1185</td>\n",
       "    </tr>\n",
       "    <tr>\n",
       "      <th>3</th>\n",
       "      <td>1</td>\n",
       "      <td>14.37</td>\n",
       "      <td>1.95</td>\n",
       "      <td>2.50</td>\n",
       "      <td>16.8</td>\n",
       "      <td>113</td>\n",
       "      <td>3.85</td>\n",
       "      <td>3.49</td>\n",
       "      <td>0.24</td>\n",
       "      <td>2.18</td>\n",
       "      <td>7.80</td>\n",
       "      <td>0.86</td>\n",
       "      <td>3.45</td>\n",
       "      <td>1480</td>\n",
       "    </tr>\n",
       "    <tr>\n",
       "      <th>4</th>\n",
       "      <td>1</td>\n",
       "      <td>13.24</td>\n",
       "      <td>2.59</td>\n",
       "      <td>2.87</td>\n",
       "      <td>21.0</td>\n",
       "      <td>118</td>\n",
       "      <td>2.80</td>\n",
       "      <td>2.69</td>\n",
       "      <td>0.39</td>\n",
       "      <td>1.82</td>\n",
       "      <td>4.32</td>\n",
       "      <td>1.04</td>\n",
       "      <td>2.93</td>\n",
       "      <td>735</td>\n",
       "    </tr>\n",
       "  </tbody>\n",
       "</table>\n",
       "</div>"
      ],
      "text/plain": [
       "   Wine  Alcohol  Malic.acid   Ash   Acl   Mg  Phenols  Flavanoids  \\\n",
       "0     1    14.23        1.71  2.43  15.6  127     2.80        3.06   \n",
       "1     1    13.20        1.78  2.14  11.2  100     2.65        2.76   \n",
       "2     1    13.16        2.36  2.67  18.6  101     2.80        3.24   \n",
       "3     1    14.37        1.95  2.50  16.8  113     3.85        3.49   \n",
       "4     1    13.24        2.59  2.87  21.0  118     2.80        2.69   \n",
       "\n",
       "   Nonflavanoid.phenols  Proanth  Color.int   Hue    OD  Proline  \n",
       "0                  0.28     2.29       5.64  1.04  3.92     1065  \n",
       "1                  0.26     1.28       4.38  1.05  3.40     1050  \n",
       "2                  0.30     2.81       5.68  1.03  3.17     1185  \n",
       "3                  0.24     2.18       7.80  0.86  3.45     1480  \n",
       "4                  0.39     1.82       4.32  1.04  2.93      735  "
      ]
     },
     "execution_count": 2,
     "metadata": {},
     "output_type": "execute_result"
    }
   ],
   "source": [
    "df = pd.read_csv(\"./data/wine.csv\")  # dummy data\n",
    "X = df.drop(columns=[\"Wine\"])\n",
    "y = df[\"Wine\"]\n",
    "df.head()"
   ]
  },
  {
   "cell_type": "markdown",
   "id": "37a8f76b-5a82-48b6-8b52-a9b7cb6a50d1",
   "metadata": {},
   "source": [
    "### Preparing Data and Initializing Models"
   ]
  },
  {
   "cell_type": "code",
   "execution_count": 3,
   "id": "41bfb747-73e6-461f-913c-8fb83fd7cad8",
   "metadata": {},
   "outputs": [],
   "source": [
    "# encoding labels\n",
    "le = LabelEncoder()\n",
    "y = le.fit_transform(y)\n",
    "\n",
    "# initializing models from mapping\n",
    "models = {name: model_class() for name, model_class in model_mapping.items()}\n",
    "\n",
    "# dictionary to store model evaluation results\n",
    "model_results = {name: np.zeros((runs, 5)) for name in models}"
   ]
  },
  {
   "cell_type": "markdown",
   "id": "e1545507-1085-4def-8952-0b5e8af9513b",
   "metadata": {},
   "source": [
    "### Training Loop"
   ]
  },
  {
   "cell_type": "code",
   "execution_count": 4,
   "id": "ba68954c-fbfe-4d27-b894-a08969212f17",
   "metadata": {},
   "outputs": [],
   "source": [
    "for r in range(runs):\n",
    "    # splitting\n",
    "    X_train, X_test, y_train, y_test = train_test_split(X, y, test_size=0.8, random_state=seed + r)\n",
    "\n",
    "    # scaling\n",
    "    scaler = MinMaxScaler()\n",
    "    X_train_scaled = scaler.fit_transform(X_train)\n",
    "    X_test_scaled = scaler.transform(X_test)\n",
    "\n",
    "    X_train_scaled = pd.DataFrame(X_train_scaled, columns=X.columns)\n",
    "    X_test_scaled = pd.DataFrame(X_test_scaled, columns=X.columns)\n",
    "    \n",
    "    # training & evaluating each model\n",
    "    for name, current_model in models.items():\n",
    "        current_model.train(X_train_scaled, y_train)\n",
    "        model_results[name][r, :] = current_model.predict(X_test_scaled, y_test)"
   ]
  },
  {
   "cell_type": "markdown",
   "id": "bb9618ff-3ec7-4e00-a91a-ec6d23870883",
   "metadata": {},
   "source": [
    "### Computing & Printing Average Metrics Functions"
   ]
  },
  {
   "cell_type": "code",
   "execution_count": 5,
   "id": "442271aa-2324-4cd3-8c65-8132980231ae",
   "metadata": {},
   "outputs": [
    {
     "name": "stdout",
     "output_type": "stream",
     "text": [
      "\n",
      "Decision Tree Model:\n",
      "  AUC: 0.88876, Accuracy: 0.85343, Precision: 0.86424, Recall: 0.85343, F1: 0.85193\n",
      "\n",
      "Random Forest Model:\n",
      "  AUC: 0.98658, Accuracy: 0.91476, Precision: 0.92148, Recall: 0.91476, F1: 0.91415\n",
      "\n",
      "Gradient Boosting Model:\n",
      "  AUC: 0.97555, Accuracy: 0.87524, Precision: 0.89112, Recall: 0.87524, F1: 0.87435\n",
      "\n",
      "Extreme Gradient Boosting Model:\n",
      "  AUC: 0.98560, Accuracy: 0.90510, Precision: 0.91306, Recall: 0.90510, F1: 0.90437\n",
      "\n",
      "Light Gradient Boosting Model Model:\n",
      "  AUC: 0.99014, Accuracy: 0.92727, Precision: 0.93110, Recall: 0.92727, F1: 0.92687\n",
      "\n",
      "Extremely Randomized Trees Model:\n",
      "  AUC: 0.99783, Accuracy: 0.96035, Precision: 0.96332, Recall: 0.96035, F1: 0.96017\n",
      "\n",
      "Adaptive Boosting Model:\n",
      "  AUC: 0.96114, Accuracy: 0.88175, Precision: 0.89161, Recall: 0.88175, F1: 0.88102\n",
      "\n",
      "Logistic Regression Model:\n",
      "  AUC: 0.99518, Accuracy: 0.95063, Precision: 0.95542, Recall: 0.95063, F1: 0.95031\n",
      "\n",
      "Logistic Regression - Lasso (L1) Model:\n",
      "  AUC: 0.98871, Accuracy: 0.91594, Precision: 0.92483, Recall: 0.91594, F1: 0.91549\n",
      "\n",
      "Logistic Regression - Ridge (L2) Model:\n",
      "  AUC: 0.99518, Accuracy: 0.95063, Precision: 0.95542, Recall: 0.95063, F1: 0.95031\n",
      "\n",
      "Logistic Regression - Elastic Net Model:\n",
      "  AUC: 0.99537, Accuracy: 0.94559, Precision: 0.95147, Recall: 0.94559, F1: 0.94521\n",
      "\n",
      "Linear SVM Model:\n",
      "  AUC: 0.99453, Accuracy: 0.94818, Precision: 0.95200, Recall: 0.94818, F1: 0.94787\n",
      "\n",
      "Non-linear SVM Model:\n",
      "  AUC: 0.99796, Accuracy: 0.96364, Precision: 0.96602, Recall: 0.96364, F1: 0.96360\n",
      "\n",
      "K-Nearest Neighbors Model:\n",
      "  AUC: 0.99043, Accuracy: 0.93650, Precision: 0.94288, Recall: 0.93650, F1: 0.93568\n",
      "\n",
      "Linear Discriminant Analysis Model:\n",
      "  AUC: 0.99087, Accuracy: 0.94385, Precision: 0.94703, Recall: 0.94385, F1: 0.94358\n",
      "\n",
      "Gaussian Naive Bayes Model:\n",
      "  AUC: 0.98359, Accuracy: 0.93902, Precision: 0.94454, Recall: 0.93902, F1: 0.93885\n",
      "\n",
      "Multilayer Perceptron Model:\n",
      "  AUC: 0.99569, Accuracy: 0.95455, Precision: 0.95795, Recall: 0.95455, F1: 0.95429\n"
     ]
    }
   ],
   "source": [
    "# computing average metrics\n",
    "average_results = {\n",
    "    name: np.mean(results, axis=0) for name, results in model_results.items()\n",
    "}\n",
    "\n",
    "# printing results\n",
    "for name, metrics in average_results.items():\n",
    "    print(f\"\\n{name} Model:\")\n",
    "    print(f\"  AUC: {metrics[0]:.5f}, Accuracy: {metrics[1]:.5f}, \"\n",
    "          f\"Precision: {metrics[2]:.5f}, Recall: {metrics[3]:.5f}, F1: {metrics[4]:.5f}\")"
   ]
  },
  {
   "cell_type": "markdown",
   "id": "bab858ec-2ab6-4bbd-a8f1-0772f6c21148",
   "metadata": {},
   "source": [
    "### Best Model Selection and Saving"
   ]
  },
  {
   "cell_type": "code",
   "execution_count": 6,
   "id": "9aeaeea8-1f51-4df1-bf4b-3a2307613c6c",
   "metadata": {},
   "outputs": [
    {
     "name": "stdout",
     "output_type": "stream",
     "text": [
      "\n",
      "Best Model: Non-linear SVM\n",
      "  AUC: 0.96360, Accuracy: 0.99796, Precision: 0.96364, Recall: 0.96602, F1: 0.96364\n"
     ]
    }
   ],
   "source": [
    "# best model selection with priority on AUC while using other metrics as tiebreakers\n",
    "best_model = max(average_results, key=lambda name: tuple(average_results[name][::-1]))  # Reverse to prioritize AUC\n",
    "best_metrics = average_results[best_model]\n",
    "\n",
    "\n",
    "print(f\"\\nBest Model: {best_model}\")\n",
    "print(f\"  AUC: {best_metrics[4]:.5f}, Accuracy: {best_metrics[0]:.5f}, \"\n",
    "      f\"Precision: {best_metrics[1]:.5f}, Recall: {best_metrics[2]:.5f}, F1: {best_metrics[3]:.5f}\")\n",
    "\n",
    "# saving the results for feature engineering\n",
    "with open(\"./data/best_model.txt\", \"w\") as f:\n",
    "    f.write(f\"Best Model: {best_model}\\n\")\n",
    "    f.write(f\"AUC: {best_metrics[0]:.5f}\\nAccuracy: {best_metrics[1]:.5f}\\n\"\n",
    "            f\"Precision: {best_metrics[2]:.5f}\\nRecall: {best_metrics[3]:.5f}\\nF1: {best_metrics[4]:.5f}\\n\")"
   ]
  }
 ],
 "metadata": {
  "kernelspec": {
   "display_name": "Python 3 (ipykernel)",
   "language": "python",
   "name": "python3"
  },
  "language_info": {
   "codemirror_mode": {
    "name": "ipython",
    "version": 3
   },
   "file_extension": ".py",
   "mimetype": "text/x-python",
   "name": "python",
   "nbconvert_exporter": "python",
   "pygments_lexer": "ipython3",
   "version": "3.12.7"
  },
  "vscode": {
   "interpreter": {
    "hash": "cf92aa13fedf815d5c8dd192b8d835913fde3e8bc926b2a0ad6cc74ef2ba3ca2"
   }
  }
 },
 "nbformat": 4,
 "nbformat_minor": 5
}
