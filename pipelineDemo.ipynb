{
 "cells": [
  {
   "cell_type": "markdown",
   "metadata": {},
   "source": [
    "Imports"
   ]
  },
  {
   "cell_type": "code",
   "execution_count": 4,
   "metadata": {},
   "outputs": [],
   "source": [
    "import sklearn.datasets\n",
    "from sklearn.preprocessing import StandardScaler, MinMaxScaler, LabelEncoder\n",
    "from sklearn.model_selection import train_test_split\n",
    "from sklearn.tree import DecisionTreeClassifier\n",
    "from sklearn.ensemble import RandomForestClassifier, GradientBoostingClassifier\n",
    "from sklearn.metrics import auc, accuracy_score, precision_score, recall_score, f1_score\n",
    "from xgboost import XGBClassifier\n",
    "import pandas as pd\n",
    "import numpy as np"
   ]
  },
  {
   "cell_type": "markdown",
   "metadata": {},
   "source": [
    "Dataset Handling"
   ]
  },
  {
   "cell_type": "code",
   "execution_count": 5,
   "metadata": {},
   "outputs": [
    {
     "data": {
      "text/html": [
       "<div>\n",
       "<style scoped>\n",
       "    .dataframe tbody tr th:only-of-type {\n",
       "        vertical-align: middle;\n",
       "    }\n",
       "\n",
       "    .dataframe tbody tr th {\n",
       "        vertical-align: top;\n",
       "    }\n",
       "\n",
       "    .dataframe thead th {\n",
       "        text-align: right;\n",
       "    }\n",
       "</style>\n",
       "<table border=\"1\" class=\"dataframe\">\n",
       "  <thead>\n",
       "    <tr style=\"text-align: right;\">\n",
       "      <th></th>\n",
       "      <th>Wine</th>\n",
       "      <th>Alcohol</th>\n",
       "      <th>Malic.acid</th>\n",
       "      <th>Ash</th>\n",
       "      <th>Acl</th>\n",
       "      <th>Mg</th>\n",
       "      <th>Phenols</th>\n",
       "      <th>Flavanoids</th>\n",
       "      <th>Nonflavanoid.phenols</th>\n",
       "      <th>Proanth</th>\n",
       "      <th>Color.int</th>\n",
       "      <th>Hue</th>\n",
       "      <th>OD</th>\n",
       "      <th>Proline</th>\n",
       "    </tr>\n",
       "  </thead>\n",
       "  <tbody>\n",
       "    <tr>\n",
       "      <th>0</th>\n",
       "      <td>1</td>\n",
       "      <td>14.23</td>\n",
       "      <td>1.71</td>\n",
       "      <td>2.43</td>\n",
       "      <td>15.6</td>\n",
       "      <td>127</td>\n",
       "      <td>2.80</td>\n",
       "      <td>3.06</td>\n",
       "      <td>0.28</td>\n",
       "      <td>2.29</td>\n",
       "      <td>5.64</td>\n",
       "      <td>1.04</td>\n",
       "      <td>3.92</td>\n",
       "      <td>1065</td>\n",
       "    </tr>\n",
       "    <tr>\n",
       "      <th>1</th>\n",
       "      <td>1</td>\n",
       "      <td>13.20</td>\n",
       "      <td>1.78</td>\n",
       "      <td>2.14</td>\n",
       "      <td>11.2</td>\n",
       "      <td>100</td>\n",
       "      <td>2.65</td>\n",
       "      <td>2.76</td>\n",
       "      <td>0.26</td>\n",
       "      <td>1.28</td>\n",
       "      <td>4.38</td>\n",
       "      <td>1.05</td>\n",
       "      <td>3.40</td>\n",
       "      <td>1050</td>\n",
       "    </tr>\n",
       "    <tr>\n",
       "      <th>2</th>\n",
       "      <td>1</td>\n",
       "      <td>13.16</td>\n",
       "      <td>2.36</td>\n",
       "      <td>2.67</td>\n",
       "      <td>18.6</td>\n",
       "      <td>101</td>\n",
       "      <td>2.80</td>\n",
       "      <td>3.24</td>\n",
       "      <td>0.30</td>\n",
       "      <td>2.81</td>\n",
       "      <td>5.68</td>\n",
       "      <td>1.03</td>\n",
       "      <td>3.17</td>\n",
       "      <td>1185</td>\n",
       "    </tr>\n",
       "    <tr>\n",
       "      <th>3</th>\n",
       "      <td>1</td>\n",
       "      <td>14.37</td>\n",
       "      <td>1.95</td>\n",
       "      <td>2.50</td>\n",
       "      <td>16.8</td>\n",
       "      <td>113</td>\n",
       "      <td>3.85</td>\n",
       "      <td>3.49</td>\n",
       "      <td>0.24</td>\n",
       "      <td>2.18</td>\n",
       "      <td>7.80</td>\n",
       "      <td>0.86</td>\n",
       "      <td>3.45</td>\n",
       "      <td>1480</td>\n",
       "    </tr>\n",
       "    <tr>\n",
       "      <th>4</th>\n",
       "      <td>1</td>\n",
       "      <td>13.24</td>\n",
       "      <td>2.59</td>\n",
       "      <td>2.87</td>\n",
       "      <td>21.0</td>\n",
       "      <td>118</td>\n",
       "      <td>2.80</td>\n",
       "      <td>2.69</td>\n",
       "      <td>0.39</td>\n",
       "      <td>1.82</td>\n",
       "      <td>4.32</td>\n",
       "      <td>1.04</td>\n",
       "      <td>2.93</td>\n",
       "      <td>735</td>\n",
       "    </tr>\n",
       "  </tbody>\n",
       "</table>\n",
       "</div>"
      ],
      "text/plain": [
       "   Wine  Alcohol  Malic.acid   Ash   Acl   Mg  Phenols  Flavanoids  \\\n",
       "0     1    14.23        1.71  2.43  15.6  127     2.80        3.06   \n",
       "1     1    13.20        1.78  2.14  11.2  100     2.65        2.76   \n",
       "2     1    13.16        2.36  2.67  18.6  101     2.80        3.24   \n",
       "3     1    14.37        1.95  2.50  16.8  113     3.85        3.49   \n",
       "4     1    13.24        2.59  2.87  21.0  118     2.80        2.69   \n",
       "\n",
       "   Nonflavanoid.phenols  Proanth  Color.int   Hue    OD  Proline  \n",
       "0                  0.28     2.29       5.64  1.04  3.92     1065  \n",
       "1                  0.26     1.28       4.38  1.05  3.40     1050  \n",
       "2                  0.30     2.81       5.68  1.03  3.17     1185  \n",
       "3                  0.24     2.18       7.80  0.86  3.45     1480  \n",
       "4                  0.39     1.82       4.32  1.04  2.93      735  "
      ]
     },
     "execution_count": 5,
     "metadata": {},
     "output_type": "execute_result"
    }
   ],
   "source": [
    "#choose seed for run\n",
    "seed = 123456\n",
    "\n",
    "\n",
    "#Loading wine dataset as proof of concept\n",
    "\n",
    "df = pd.read_csv(\"wine.csv\")\n",
    "target_column = \"Wine\"\n",
    "X = df.drop(columns=[target_column])\n",
    "y = df[target_column]\n",
    "df.head()\n",
    "\n",
    "\n",
    "\n"
   ]
  },
  {
   "cell_type": "markdown",
   "metadata": {},
   "source": [
    "This section handles splitting and scaling the data"
   ]
  },
  {
   "cell_type": "code",
   "execution_count": 6,
   "metadata": {},
   "outputs": [],
   "source": [
    "#set random state to seed for deterministic results\n",
    "X_train, X_test, y_train, y_test = train_test_split(X, y, test_size=0.5, random_state=seed)\n",
    "\n",
    "le = LabelEncoder()\n",
    "y_train = le.fit_transform(y_train)\n",
    "y_test = le.transform(y_test)\n",
    "\n",
    "scaler = StandardScaler()\n",
    "X_train_scaled_standard = scaler.fit_transform(X_train)\n",
    "X_test_scaled_standard = scaler.transform(X_test)\n",
    "\n",
    "scaler2 = MinMaxScaler()\n",
    "X_train_scaled_minMax = scaler2.fit_transform(X_train)\n",
    "X_test_scaled_minMax = scaler2.transform(X_test)\n",
    "\n"
   ]
  },
  {
   "cell_type": "markdown",
   "metadata": {},
   "source": [
    "Standard fit and predictions"
   ]
  },
  {
   "cell_type": "code",
   "execution_count": 7,
   "metadata": {},
   "outputs": [],
   "source": [
    "#DT, RF, GB, XGB (Only 4 for Proof Of Concept)\n",
    "\n",
    "dt = DecisionTreeClassifier(random_state=seed)\n",
    "rf = RandomForestClassifier(n_estimators=10, max_depth=5, max_features=\"sqrt\", random_state=seed)\n",
    "gb = GradientBoostingClassifier(n_estimators=10, random_state=seed)\n",
    "xgb = XGBClassifier( eval_metric=\"mlogloss\", random_state=seed)\n",
    "\n",
    "# Train models - Standard scale\n",
    "dt.fit(X_train_scaled_standard, y_train)\n",
    "rf.fit(X_train_scaled_standard, y_train)\n",
    "gb.fit(X_train_scaled_standard, y_train)\n",
    "xgb.fit(X_train_scaled_standard, y_train)\n",
    "\n",
    "# Make predictions - Standard Scale\n",
    "dt_preds_standard = dt.predict(X_test_scaled_standard)\n",
    "rf_preds_standard = rf.predict(X_test_scaled_standard)\n",
    "gb_preds_standard = gb.predict(X_test_scaled_standard)\n",
    "xgb_preds_standard = xgb.predict(X_test_scaled_standard)\n",
    "\n",
    "\n",
    "\n",
    "\n",
    "\n"
   ]
  },
  {
   "cell_type": "markdown",
   "metadata": {},
   "source": [
    "MinMax fit and Predictions"
   ]
  },
  {
   "cell_type": "code",
   "execution_count": 8,
   "metadata": {},
   "outputs": [],
   "source": [
    "\n",
    "# Train models - Min Max Scale\n",
    "dt.fit(X_train_scaled_minMax, y_train)\n",
    "rf.fit(X_train_scaled_minMax, y_train)\n",
    "gb.fit(X_train_scaled_minMax, y_train)\n",
    "xgb.fit(X_train_scaled_minMax, y_train)\n",
    "\n",
    "\n",
    "# Make predictions - Min Max Scale\n",
    "dt_preds_minMax = dt.predict(X_test_scaled_minMax)\n",
    "rf_preds_minMax = rf.predict(X_test_scaled_minMax)\n",
    "gb_preds_minMax = gb.predict(X_test_scaled_minMax)\n",
    "xgb_preds_minMax = xgb.predict(X_test_scaled_minMax)"
   ]
  },
  {
   "cell_type": "markdown",
   "metadata": {},
   "source": [
    "Model Evals - DF"
   ]
  },
  {
   "cell_type": "code",
   "execution_count": 9,
   "metadata": {},
   "outputs": [
    {
     "name": "stdout",
     "output_type": "stream",
     "text": [
      "DT SCORES STANDARD SCALE\n",
      "Accuracy:\n",
      "0.9213483146067416\n",
      "Precision:\n",
      "0.9249809918053561\n",
      "Recall:\n",
      "0.9213483146067416\n",
      "F1:\n",
      "0.9220034752881897\n",
      "DT SCORES MINMAX SCALE\n",
      "Accuracy:\n",
      "0.9213483146067416\n",
      "Precision:\n",
      "0.9249809918053561\n",
      "Recall:\n",
      "0.9213483146067416\n",
      "F1:\n",
      "0.9220034752881897\n"
     ]
    }
   ],
   "source": [
    "print(\"DT SCORES STANDARD SCALE\")\n",
    "\n",
    "#print(auc(y_test, dt_preds_standard)) -- Still need to figure out AUC\n",
    "print(\"Accuracy:\")\n",
    "print(accuracy_score(y_test, dt_preds_standard))\n",
    "print(\"Precision:\")\n",
    "print(precision_score(y_test, dt_preds_standard, average=\"weighted\"))\n",
    "print(\"Recall:\")\n",
    "print(recall_score(y_test, dt_preds_standard, average=\"weighted\"))\n",
    "print(\"F1:\")\n",
    "print(f1_score(y_test, dt_preds_standard, average=\"weighted\"))\n",
    "\n",
    "print(\"DT SCORES MINMAX SCALE\")\n",
    "\n",
    "print(\"Accuracy:\")\n",
    "print(accuracy_score(y_test, dt_preds_minMax))\n",
    "print(\"Precision:\")\n",
    "print(precision_score(y_test, dt_preds_minMax, average=\"weighted\"))\n",
    "print(\"Recall:\")\n",
    "print(recall_score(y_test, dt_preds_minMax, average=\"weighted\"))\n",
    "print(\"F1:\")\n",
    "print(f1_score(y_test, dt_preds_minMax, average=\"weighted\"))\n"
   ]
  },
  {
   "cell_type": "markdown",
   "metadata": {},
   "source": [
    "Model Evals - RF"
   ]
  },
  {
   "cell_type": "code",
   "execution_count": 10,
   "metadata": {},
   "outputs": [
    {
     "name": "stdout",
     "output_type": "stream",
     "text": [
      "RF SCORES STANDARD SCALE\n",
      "Accuracy:\n",
      "0.9775280898876404\n",
      "Precision:\n",
      "0.9783347738403919\n",
      "Recall:\n",
      "0.9775280898876404\n",
      "F1:\n",
      "0.9774029970015049\n",
      "RF SCORES MINMAX SCALE\n",
      "Accuracy:\n",
      "0.9775280898876404\n",
      "Precision:\n",
      "0.9783347738403919\n",
      "Recall:\n",
      "0.9775280898876404\n",
      "F1:\n",
      "0.9774029970015049\n"
     ]
    }
   ],
   "source": [
    "print(\"RF SCORES STANDARD SCALE\")\n",
    "\n",
    "#print(auc(y_test, dt_preds_standard)) -- Still need to figure out AUC\n",
    "print(\"Accuracy:\")\n",
    "print(accuracy_score(y_test, rf_preds_standard))\n",
    "print(\"Precision:\")\n",
    "print(precision_score(y_test, rf_preds_standard, average=\"weighted\"))\n",
    "print(\"Recall:\")\n",
    "print(recall_score(y_test, rf_preds_standard, average=\"weighted\"))\n",
    "print(\"F1:\")\n",
    "print(f1_score(y_test, rf_preds_standard, average=\"weighted\"))\n",
    "\n",
    "print(\"RF SCORES MINMAX SCALE\")\n",
    "\n",
    "print(\"Accuracy:\")\n",
    "print(accuracy_score(y_test, rf_preds_minMax))\n",
    "print(\"Precision:\")\n",
    "print(precision_score(y_test, rf_preds_minMax, average=\"weighted\"))\n",
    "print(\"Recall:\")\n",
    "print(recall_score(y_test, rf_preds_minMax, average=\"weighted\"))\n",
    "print(\"F1:\")\n",
    "print(f1_score(y_test, rf_preds_minMax, average=\"weighted\"))\n",
    "\n",
    "\n"
   ]
  },
  {
   "cell_type": "markdown",
   "metadata": {},
   "source": [
    "Model Evals - GB"
   ]
  },
  {
   "cell_type": "code",
   "execution_count": 11,
   "metadata": {},
   "outputs": [
    {
     "name": "stdout",
     "output_type": "stream",
     "text": [
      "GB SCORES STANDARD SCALE\n",
      "Accuracy:\n",
      "0.8876404494382022\n",
      "Precision:\n",
      "0.9068286734605\n",
      "Recall:\n",
      "0.8876404494382022\n",
      "F1:\n",
      "0.8823987664162125\n",
      "GB SCORES MINMAX SCALE\n",
      "Accuracy:\n",
      "0.8876404494382022\n",
      "Precision:\n",
      "0.9068286734605\n",
      "Recall:\n",
      "0.8876404494382022\n",
      "F1:\n",
      "0.8823987664162125\n"
     ]
    }
   ],
   "source": [
    "print(\"GB SCORES STANDARD SCALE\")\n",
    "\n",
    "#print(auc(y_test, dt_preds_standard)) -- Still need to figure out AUC\n",
    "print(\"Accuracy:\")\n",
    "print(accuracy_score(y_test, gb_preds_standard))\n",
    "print(\"Precision:\")\n",
    "print(precision_score(y_test, gb_preds_standard, average=\"weighted\"))\n",
    "print(\"Recall:\")\n",
    "print(recall_score(y_test, gb_preds_standard, average=\"weighted\"))\n",
    "print(\"F1:\")\n",
    "print(f1_score(y_test, gb_preds_standard, average=\"weighted\"))\n",
    "\n",
    "print(\"GB SCORES MINMAX SCALE\")\n",
    "\n",
    "print(\"Accuracy:\")\n",
    "print(accuracy_score(y_test, gb_preds_minMax))\n",
    "print(\"Precision:\")\n",
    "print(precision_score(y_test, gb_preds_minMax, average=\"weighted\"))\n",
    "print(\"Recall:\")\n",
    "print(recall_score(y_test, gb_preds_minMax, average=\"weighted\"))\n",
    "print(\"F1:\")\n",
    "print(f1_score(y_test, gb_preds_minMax, average=\"weighted\"))"
   ]
  }
 ],
 "metadata": {
  "kernelspec": {
   "display_name": "Python 3",
   "language": "python",
   "name": "python3"
  },
  "language_info": {
   "codemirror_mode": {
    "name": "ipython",
    "version": 3
   },
   "file_extension": ".py",
   "mimetype": "text/x-python",
   "name": "python",
   "nbconvert_exporter": "python",
   "pygments_lexer": "ipython3",
   "version": "3.10.4"
  },
  "orig_nbformat": 4
 },
 "nbformat": 4,
 "nbformat_minor": 2
}
